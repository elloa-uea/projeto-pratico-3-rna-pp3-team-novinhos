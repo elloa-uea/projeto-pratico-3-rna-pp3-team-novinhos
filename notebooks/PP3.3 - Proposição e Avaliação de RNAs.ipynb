{
 "cells": [
  {
   "cell_type": "markdown",
   "metadata": {},
   "source": [
    "## Redes Neurais Artificiais 2020.1\n",
    "\n",
    "**Disciplina**: Redes Neurais Artificiais 2020.1  \n",
    "**Professora**: Elloá B. Guedes (ebgcosta@uea.edu.br)  \n",
    "**Github**: http://github.com/elloa  \n",
    "        \n",
    "\n",
    "Levando em conta a base de dados **_Forest Cover Type_**, esta terceira parte do Projeto Prático 3 diz respeito à proposição e avaliação de múltiplas redes neurais artificiais do tipo feedforward multilayer perceptron para o problema da classificação multi-classe da cobertura florestal em uma área do Roosevelt National Forest.\n",
    "\n",
    "## Testando Redes Neurais sem os Atributos Categórios\n",
    "\n",
    "1. Abra a base de dados em questão\n",
    "2. Elimine todas as colunas relativas aos atributos categóricos\n",
    "3. Armazene o atributo alvo em uma variável y e os atributos preditores em uma variável X\n",
    "4. Efetue uma partição holdout 70/30 com o sklearn, distribuindo os exemplos de maneira aleatória\n",
    "5. Efetue o escalonamento dos atributos\n",
    "\n",
    "### Escalonando os atributos\n",
    "\n",
    "O treinamento de uma rede neural artificial é mais eficiente quando os valores que lhes são fornecidos como entrada são pequenos, pois isto favorece a convergência. Isto é feito escalonando-se todos os atributos para o intervalo [0,1], mas precisa ser feito de maneira cautelosa, para que informações do conjunto de teste não sejam fornecidas no treinamento.\n",
    "\n",
    "Há duas estratégias para tal escalonamento: normalização e padronização. Ambas possuem características particulares, vantagens e limitações, como é possível ver aqui: https://www.analyticsvidhya.com/blog/2020/04/feature-scaling-machine-learning-normalization-standardization/\n",
    "\n",
    "\n",
    "No nosso caso, vamos usar a padronização. Assim, com os atributos preditores do treinamento, isto é, X_train, deve-se subtrair a média e dividir pelo desvio padrão:\n",
    "\n",
    "X_train_std = (X_train - np.mean(X_train))/np.std(X_train)\n",
    "\n",
    "Em seguida, o mesmo deve ser feito com os atributos preditores do conjunto de testes, mas com padronização relativa ao conjunto de treinamento:\n",
    "\n",
    "X_test_std = (X_test - np.mean(X_train))/np.std(X_train)\n",
    "\n",
    "Se todo o conjunto X for utilizado na padronização, a rede neural receberá informações do conjunto de teste por meio da média e variância utilizada para preparar os dados de treinamento, o que não é desejável.\n",
    "\n",
    "\n",
    "### Continuando\n",
    "\n",
    "5. Treine uma rede neural multilayer perceptron para este problema com uma única camada e dez neurônios  \n",
    "    5.1 Utilize a função de ativação ReLU  \n",
    "    5.2 Utilize o solver Adam    \n",
    "    5.3 Imprima o passo a passo do treinamento    \n",
    "    5.4 Utilize o número máximo de épocas igual a 300  \n",
    "6. Com o modelo em questão, após o treinamento, apresente:  \n",
    "    6.1 Matriz de confusão para o conjunto de teste  \n",
    "    6.2 Acurácia  \n",
    "    6.3 F-Score  \n",
    "    6.4 Precisão  \n",
    "    6.5 Revocação  \n",
    "7. Repita o treinamento da mesma rede anterior sem imprimir o passo a passo (verbose False) por 100 vezes  \n",
    "    7.1 Cada uma destas repetições deve ser feita com uma nova partição Holdout  \n",
    "    7.2 Apresente a média e o desvio padrão da acurácia e do F-Score para o conjunto de treino  \n",
    "8. Repita por 100 vezes o treinamento desta mesma rede, mas utilizando o otimizador SGD  \n",
    "    8.1 Apresente a média e o desvio padrão da acurácia e do F-Score para o conjunto de treino  \n",
    "9. Houve influência da escolha do otimizador no desempenho da rede?"
   ]
  },
  {
   "cell_type": "code",
   "execution_count": 15,
   "metadata": {},
   "outputs": [],
   "source": [
    "import pandas as pd\n",
    "import numpy as np\n",
    "import matplotlib.pyplot as plt\n",
    "import re\n",
    "from tqdm import trange\n",
    "from rich.console import Console\n",
    "from rich.table import Column, Table\n",
    "from sklearn.neural_network import MLPClassifier\n",
    "from sklearn.model_selection import train_test_split\n",
    "from sklearn.metrics import plot_confusion_matrix, \\\n",
    "                            f1_score, \\\n",
    "                            precision_score, \\\n",
    "                            recall_score, \\\n",
    "                            accuracy_score"
   ]
  },
  {
   "cell_type": "code",
   "execution_count": 16,
   "metadata": {},
   "outputs": [],
   "source": [
    "dataset = pd.read_csv('covtype.csv')\n",
    "columns = list(dataset.columns)\n",
    "r = re.compile(\"^(Wilderness_Area|Soil_Type)\")\n",
    "to_drop = list(filter(r.match, columns))\n",
    "df = dataset.drop(columns=to_drop)"
   ]
  },
  {
   "cell_type": "code",
   "execution_count": 17,
   "metadata": {},
   "outputs": [],
   "source": [
    "y = df[\"Cover_Type\"]\n",
    "x = df.drop(columns=[\"Cover_Type\"])\n",
    "\n",
    "x_train, x_test, y_train, y_test = train_test_split(x, y, test_size=0.3, train_size=0.7)\n",
    "y_classes = list(set(y_train.values))"
   ]
  },
  {
   "cell_type": "code",
   "execution_count": 18,
   "metadata": {},
   "outputs": [],
   "source": [
    "x_train_std = (x_train - np.mean(x_train))/np.std(x_train)\n",
    "x_test_std = (x_test - np.mean(x_train))/np.std(x_train)"
   ]
  },
  {
   "cell_type": "code",
   "execution_count": 19,
   "metadata": {},
   "outputs": [
    {
     "name": "stdout",
     "output_type": "stream",
     "text": [
      "Iteration 1, loss = 0.92736720\n",
      "Iteration 2, loss = 0.70748660\n",
      "Iteration 3, loss = 0.68895377\n",
      "Iteration 4, loss = 0.68055325\n",
      "Iteration 5, loss = 0.67424023\n",
      "Iteration 6, loss = 0.66977137\n",
      "Iteration 7, loss = 0.66678076\n",
      "Iteration 8, loss = 0.66500981\n",
      "Iteration 9, loss = 0.66363270\n",
      "Iteration 10, loss = 0.66278631\n",
      "Iteration 11, loss = 0.66222679\n",
      "Iteration 12, loss = 0.66162909\n",
      "Iteration 13, loss = 0.66110331\n",
      "Iteration 14, loss = 0.66050550\n",
      "Iteration 15, loss = 0.66000884\n",
      "Iteration 16, loss = 0.65947480\n",
      "Iteration 17, loss = 0.65903372\n",
      "Iteration 18, loss = 0.65851828\n",
      "Iteration 19, loss = 0.65813327\n",
      "Iteration 20, loss = 0.65782084\n",
      "Iteration 21, loss = 0.65754443\n",
      "Iteration 22, loss = 0.65728757\n",
      "Iteration 23, loss = 0.65704575\n",
      "Iteration 24, loss = 0.65681865\n",
      "Iteration 25, loss = 0.65660825\n",
      "Iteration 26, loss = 0.65635476\n",
      "Iteration 27, loss = 0.65614386\n",
      "Iteration 28, loss = 0.65592811\n",
      "Iteration 29, loss = 0.65572363\n",
      "Iteration 30, loss = 0.65565622\n",
      "Iteration 31, loss = 0.65544531\n",
      "Iteration 32, loss = 0.65527556\n",
      "Iteration 33, loss = 0.65511466\n",
      "Iteration 34, loss = 0.65486897\n",
      "Iteration 35, loss = 0.65473428\n",
      "Iteration 36, loss = 0.65460145\n",
      "Iteration 37, loss = 0.65436974\n",
      "Iteration 38, loss = 0.65421669\n",
      "Iteration 39, loss = 0.65399099\n",
      "Iteration 40, loss = 0.65395947\n",
      "Iteration 41, loss = 0.65368354\n",
      "Iteration 42, loss = 0.65353451\n",
      "Iteration 43, loss = 0.65342679\n",
      "Iteration 44, loss = 0.65326720\n",
      "Iteration 45, loss = 0.65311653\n",
      "Iteration 46, loss = 0.65310179\n",
      "Iteration 47, loss = 0.65301893\n",
      "Iteration 48, loss = 0.65288365\n",
      "Iteration 49, loss = 0.65284799\n",
      "Iteration 50, loss = 0.65285006\n",
      "Iteration 51, loss = 0.65272362\n",
      "Iteration 52, loss = 0.65248438\n",
      "Iteration 53, loss = 0.65241727\n",
      "Iteration 54, loss = 0.65235540\n",
      "Iteration 55, loss = 0.65223358\n",
      "Iteration 56, loss = 0.65192961\n",
      "Iteration 57, loss = 0.65139956\n",
      "Iteration 58, loss = 0.65058405\n",
      "Iteration 59, loss = 0.64987517\n",
      "Iteration 60, loss = 0.64930646\n",
      "Iteration 61, loss = 0.64890480\n",
      "Iteration 62, loss = 0.64869873\n",
      "Iteration 63, loss = 0.64848844\n",
      "Iteration 64, loss = 0.64836333\n",
      "Iteration 65, loss = 0.64822749\n",
      "Iteration 66, loss = 0.64809700\n",
      "Iteration 67, loss = 0.64793403\n",
      "Iteration 68, loss = 0.64780805\n",
      "Iteration 69, loss = 0.64781099\n",
      "Iteration 70, loss = 0.64773894\n",
      "Iteration 71, loss = 0.64751425\n",
      "Iteration 72, loss = 0.64748528\n",
      "Iteration 73, loss = 0.64740342\n",
      "Iteration 74, loss = 0.64727866\n",
      "Iteration 75, loss = 0.64718769\n",
      "Iteration 76, loss = 0.64715255\n",
      "Iteration 77, loss = 0.64710550\n",
      "Iteration 78, loss = 0.64705810\n",
      "Iteration 79, loss = 0.64694449\n",
      "Iteration 80, loss = 0.64693974\n",
      "Iteration 81, loss = 0.64683125\n",
      "Iteration 82, loss = 0.64677748\n",
      "Iteration 83, loss = 0.64673499\n",
      "Iteration 84, loss = 0.64667956\n",
      "Iteration 85, loss = 0.64662105\n",
      "Iteration 86, loss = 0.64656063\n",
      "Iteration 87, loss = 0.64663389\n",
      "Iteration 88, loss = 0.64653020\n",
      "Iteration 89, loss = 0.64654878\n",
      "Iteration 90, loss = 0.64647416\n",
      "Iteration 91, loss = 0.64643073\n",
      "Iteration 92, loss = 0.64641807\n",
      "Training loss did not improve more than tol=0.000100 for 10 consecutive epochs. Stopping.\n"
     ]
    }
   ],
   "source": [
    "MLPClassi = MLPClassifier(hidden_layer_sizes=(10),activation=\"relu\", solver=\"adam\", \n",
    "                          random_state=1, max_iter=300, \n",
    "                          verbose=True).fit(x_train_std, y_train)"
   ]
  },
  {
   "cell_type": "code",
   "execution_count": 20,
   "metadata": {},
   "outputs": [
    {
     "data": {
      "image/png": "[encoded data removed]",
      "text/plain": [
       "<Figure size 432x288 with 2 Axes>"
      ]
     },
     "metadata": {
      "needs_background": "light"
     },
     "output_type": "display_data"
    }
   ],
   "source": [
    "y_predicted = MLPClassi.predict(x_test_std)\n",
    "\n",
    "disp = plot_confusion_matrix(MLPClassi, x_test_std, y_test,\n",
    "                             display_labels=y_classes,\n",
    "                             cmap=plt.cm.Blues,\n",
    "                             normalize=None)\n",
    "disp.ax_.set_title('Cover Type Confusion Matrix')\n",
    "plt.show()"
   ]
  },
  {
   "cell_type": "code",
   "execution_count": 28,
   "metadata": {},
   "outputs": [
    {
     "data": {
      "text/html": [
       "<pre style=\"white-space:pre;overflow-x:auto;line-height:normal;font-family:Menlo,'DejaVu Sans Mono',consolas,'Courier New',monospace\">┏━━━━━━━━━━━┳━━━━━━━┓\n",
       "┃<span style=\"color: #800080; font-weight: bold\"> Metric    </span>┃<span style=\"color: #800080; font-weight: bold\"> Value </span>┃\n",
       "┡━━━━━━━━━━━╇━━━━━━━┩\n",
       "│ F1-Score  │ 0.52  │\n",
       "├───────────┼───────┤\n",
       "│ Accuracy  │ 0.72  │\n",
       "├───────────┼───────┤\n",
       "│ Precision │ 0.66  │\n",
       "├───────────┼───────┤\n",
       "│ Recall    │ 0.48  │\n",
       "└───────────┴───────┘\n",
       "</pre>\n"
      ],
      "text/plain": [
       "<rich.jupyter.JupyterRenderable at 0x7f7cd6f1ed00>"
      ]
     },
     "metadata": {},
     "output_type": "display_data"
    }
   ],
   "source": [
    "console = Console()\n",
    "table = Table(show_header=True, header_style='bold magenta', show_lines=True)\n",
    "table.add_column('Metric')\n",
    "table.add_column('Value')\n",
    "table.add_row(\n",
    "    'F1-Score', f\"{round(f1_score(y_test, y_predicted, average='macro'), 2)}\"\n",
    ")\n",
    "table.add_row(\n",
    "    'Accuracy', f\"{round(accuracy_score(y_test, y_predicted), 2)}\"\n",
    ")\n",
    "table.add_row(\n",
    "    'Precision', f\"{round(precision_score(y_test, y_predicted, average='macro'), 2)}\"\n",
    ")\n",
    "table.add_row(\n",
    "    'Recall', f\"{round(recall_score(y_test, y_predicted, average='macro'), 2)}\"\n",
    ")\n",
    "console.print(table)"
   ]
  },
  {
   "cell_type": "code",
   "execution_count": 30,
   "metadata": {},
   "outputs": [],
   "source": [
    "def retrain(x, y, model):\n",
    "    x_train, x_test, y_train, y_test = train_test_split(x, y, test_size=0.3, train_size=0.7)\n",
    "    x_train_std = (x_train - np.mean(x_train))/np.std(x_train)\n",
    "    x_test_std = (x_test - np.mean(x_train))/np.std(x_train)\n",
    "    model.fit(x_train_std, y_train)\n",
    "    y_predicted = model.predict(x_test_std)\n",
    "    f1_score_value = f1_score(y_test, y_predicted, average='macro')\n",
    "    acc = accuracy_score(y_test, y_predicted)\n",
    "    return f1_score_value, acc\n",
    "\n",
    "def measures(x, y, model, model_name):\n",
    "    f1_scores = []\n",
    "    accs = []\n",
    "\n",
    "    print('This can take a while, why do not take a coffee?')\n",
    "    for train_number in trange(100, desc='Retrain progress'):\n",
    "        metrics = retrain(x, y, model)\n",
    "        f1_scores.append(metrics[0])\n",
    "        accs.append(metrics[1])\n",
    "    \n",
    "    console = Console()\n",
    "    table = Table(title=f\"{model_name}\",\n",
    "                  show_header=True,\n",
    "                  header_style='bold magenta',\n",
    "                  show_lines=True)\n",
    "    table.add_column('Metric')\n",
    "    table.add_column('Mean')\n",
    "    table.add_column('Std Deviation')\n",
    "    table.add_row(\n",
    "        'F1-Score', f\"{round(f1_scores.mean(), 2)}\", f\"{round(f1_scores.std(), 2)}\"\n",
    "    )\n",
    "    table.add_row(\n",
    "        'Accuracy', f\"{round(accs.mean(), 2)}\", f\"{round(accs.std(), 2)}\"\n",
    "    )\n",
    "    console.print(table)"
   ]
  },
  {
   "cell_type": "code",
   "execution_count": 31,
   "metadata": {},
   "outputs": [
    {
     "name": "stderr",
     "output_type": "stream",
     "text": [
      "\r",
      "Retrain progress:   0%|          | 0/100 [00:00<?, ?it/s]"
     ]
    },
    {
     "name": "stdout",
     "output_type": "stream",
     "text": [
      "This can take a while, why do not take a coffee?\n"
     ]
    },
    {
     "name": "stderr",
     "output_type": "stream",
     "text": [
      "Retrain progress:   6%|▌         | 6/100 [09:38<2:46:53, 106.53s/it]/home/bonifacio/.virtualenvs/jupyter/lib/python3.8/site-packages/sklearn/neural_network/_multilayer_perceptron.py:587: UserWarning: Training interrupted by user.\n",
      "  warnings.warn(\"Training interrupted by user.\")\n",
      "Retrain progress: 100%|██████████| 100/100 [2:56:41<00:00, 106.02s/it] \n"
     ]
    },
    {
     "ename": "AttributeError",
     "evalue": "'list' object has no attribute 'mean'",
     "output_type": "error",
     "traceback": [
      "\u001b[0;31m---------------------------------------------------------------------------\u001b[0m",
      "\u001b[0;31mAttributeError\u001b[0m                            Traceback (most recent call last)",
      "\u001b[0;32m<ipython-input-31-c467c43f650a>\u001b[0m in \u001b[0;36m<module>\u001b[0;34m\u001b[0m\n\u001b[1;32m      1\u001b[0m MLPClassiADAM = MLPClassifier(hidden_layer_sizes=(10),activation=\"relu\", solver=\"adam\", \n\u001b[1;32m      2\u001b[0m                           random_state=1, max_iter=300, verbose=False)\n\u001b[0;32m----> 3\u001b[0;31m \u001b[0mmeasures\u001b[0m\u001b[0;34m(\u001b[0m\u001b[0mx\u001b[0m\u001b[0;34m,\u001b[0m \u001b[0my\u001b[0m\u001b[0;34m,\u001b[0m \u001b[0mMLPClassiADAM\u001b[0m\u001b[0;34m,\u001b[0m \u001b[0;34m\"MLPClassifier with ADAM solver\"\u001b[0m\u001b[0;34m)\u001b[0m\u001b[0;34m\u001b[0m\u001b[0;34m\u001b[0m\u001b[0m\n\u001b[0m\u001b[1;32m      4\u001b[0m \u001b[0;34m\u001b[0m\u001b[0m\n\u001b[1;32m      5\u001b[0m MLPClassiSGD = MLPClassifier(hidden_layer_sizes=(10),activation=\"relu\", solver=\"sgd\", \n",
      "\u001b[0;32m<ipython-input-30-1ae15dedde4e>\u001b[0m in \u001b[0;36mmeasures\u001b[0;34m(x, y, model, model_name)\u001b[0m\n\u001b[1;32m     28\u001b[0m     \u001b[0mtable\u001b[0m\u001b[0;34m.\u001b[0m\u001b[0madd_column\u001b[0m\u001b[0;34m(\u001b[0m\u001b[0;34m'Std Deviation'\u001b[0m\u001b[0;34m)\u001b[0m\u001b[0;34m\u001b[0m\u001b[0;34m\u001b[0m\u001b[0m\n\u001b[1;32m     29\u001b[0m     table.add_row(\n\u001b[0;32m---> 30\u001b[0;31m         \u001b[0;34m'F1-Score'\u001b[0m\u001b[0;34m,\u001b[0m \u001b[0;34mf\"{round(f1_scores.mean(), 2)}\"\u001b[0m\u001b[0;34m,\u001b[0m \u001b[0;34mf\"{round(f1_scores.std(), 2)}\"\u001b[0m\u001b[0;34m\u001b[0m\u001b[0;34m\u001b[0m\u001b[0m\n\u001b[0m\u001b[1;32m     31\u001b[0m     )\n\u001b[1;32m     32\u001b[0m     table.add_row(\n",
      "\u001b[0;31mAttributeError\u001b[0m: 'list' object has no attribute 'mean'"
     ]
    }
   ],
   "source": [
    "MLPClassiADAM = MLPClassifier(hidden_layer_sizes=(10),activation=\"relu\", solver=\"adam\", \n",
    "                          random_state=1, max_iter=300, verbose=False)\n",
    "measures(x, y, MLPClassiADAM, \"MLPClassifier with ADAM solver\")\n",
    "\n",
    "MLPClassiSGD = MLPClassifier(hidden_layer_sizes=(10),activation=\"relu\", solver=\"sgd\", \n",
    "                          random_state=1, max_iter=300, verbose=False)\n",
    "measures(x, y, MLPClassiSGD, \"MLPClassifier with SGD solver\")"
   ]
  },
  {
   "cell_type": "markdown",
   "metadata": {},
   "source": [
    "## Discussão\n",
    "\n",
    "Nos passos anteriores, você avaliou o desempenho de uma única rede neural que contém os seguintes parâmetros: uma única camada oculta com 10 neurônios e função de ativação ReLU. O otimizador utilizado, quer seja SGD ou ADAM, trata-se do algoritmo para aproximar o gradiente do erro. Neste sentido, a escolha do otimizador é um hiperparâmetro, pois diz respeito a como a rede neural definida previamente atuará \"em tempo de execução\"  durante o processo de treinamento. Também são hiperparâmetros a quantidade de épocas, a taxa de aprendizado inicial, dentre outros.\n",
    "\n",
    "Cabe alientar também que você efetuou o treinamento desta rede por 100 vezes e apresentou os resultados em termos de média +- desvio padrão. Lembre-se que em uma rede neural há a inicialização aleatória de pesos e, em consequência, o desempenho delas está sujeito à uma flutuação estocástica. A execução destas múltiplas vezes faz com que eliminemos algum viés introduzido por uma boa ou má \"sorte\" na escolha de pesos no caso de uma única execução.\n",
    "\n",
    "Você também aprendeu uma estratégia para escalonar os atributos para uma melhor convergência da rede. Utilize-a em todos os treinamentos e testes propostos a seguir.\n",
    "\n",
    "## Propondo Novas Arquiteturas\n",
    "\n",
    "Variando  os parâmetros (uma ou duas camadas ocultas, com diferente números de neurônios em cada uma delas e a função de ativação) e o hiperparâmetros solver (Adam ou SGD) e o número de épocas (100,150 e 200), atenda ao que se pede:\n",
    "\n",
    "1. Proponha 10 arquiteturas distintas de RNAs para o problema em questão, à sua escolha\n",
    "2. Avalie cada uma das arquiteturas perante todos os hiperparâmetros apresentados por 100 vezes\n",
    "3. Como resultado da avaliação, apresente:  \n",
    "    3.1 Top-3 melhores redes no tocante à F-Score e Acurácia  \n",
    "    3.2 Repetição em que houve o melhor desempenho de cada uma dessas redes: ilustre tp, tf, fp e fn  "
   ]
  },
  {
   "cell_type": "code",
   "execution_count": null,
   "metadata": {},
   "outputs": [],
   "source": []
  },
  {
   "cell_type": "markdown",
   "metadata": {},
   "source": [
    "## Estimando o número de neurônios\n",
    "\n",
    "Um dos problemas de pesquisa com redes neurais artificiais consiste na determinação do número de neurônios em sua arquitetura. Embora não seja possível definir a priori qual rede neural é adequada para um problema, pois isto só é possível mediante uma busca exaustiva, há regras na literatura que sugerem o número de neurônios escondidos, tal como a regra da Pirâmide Geométrica, dada a seguir:\n",
    "\n",
    "$$N_h = \\alpha \\cdot \\sqrt{N_i \\cdot N_o},$$\n",
    "\n",
    "em que $N_h$ é o número de neurônios ocultos (a serem distribuídos em uma ou duas camadas ocultas), $N_i$ é o número de neurônios na camada de entrada e $N_o$ é o número de neurônios na camada de saída. \n",
    "\n",
    "1. Consulte a documentação da classe MLPClassifier (disponível em https://scikit-learn.org/stable/modules/generated/sklearn.neural_network.MLPClassifier.html) e obtenha os valores de $N_i$ e $N_h$.\n",
    "2. Teste os valores de $\\alpha$ como sendo iguais a $0.5$, $2$ e $3$.\n",
    "3. Proponha pelo menos 30 redes neurais segundo a regra da pirâmide geométrica e teste-as nos mesmos termos estabelecidos anterioremente  (solver, épocas, etc.)  \n",
    "    3.1 Apresente as top-3 melhores redes no tocante à F-Score e Acurácia  "
   ]
  },
  {
   "cell_type": "code",
   "execution_count": null,
   "metadata": {},
   "outputs": [],
   "source": []
  },
  {
   "cell_type": "markdown",
   "metadata": {},
   "source": [
    "## Testando as Redes Neurais com Atributos Categóricos\n",
    "\n",
    "1. Considere as 6 redes neurais obtidas nos dois top-3 anteriores (arquiteturas próprias e regra da pirâmide geométrica)\n",
    "2. Com todos os atributos preditores da base de dados original, incluindo os categóricos, treine e teste estas mesmas redes por 100 repetições  \n",
    "    2.1 Considere o melhor otimizador para cada uma delas  \n",
    "    2.2 Faça uso de 200 épocas para treinamento  \n",
    "    2.2 Apresente os resultados de acurácia e F-Score em termos da média +- dp para cada arquitetura\n",
    "3. Apresente o gráfico boxplot para o F-Score das 6 arquiteturas perante as 100 repetições"
   ]
  },
  {
   "cell_type": "code",
   "execution_count": null,
   "metadata": {},
   "outputs": [],
   "source": []
  },
  {
   "cell_type": "markdown",
   "metadata": {},
   "source": [
    "## Considerações Parciais\n",
    "\n",
    "1. É possível identificar uma rede com desempenho superior às demais?\n",
    "2. Qual estratégia mostrou-se mais producente para a obtenção de boas arquiteturas (Estratégia Própria ou Pirâmide Geométrica)? Por quê?\n",
    "3. Considerar os atributos categóricos trouxe melhorias? Justifique.\n",
    "4. Um número maior de épocas trouxe melhorias?\n",
    "5. Qual a maior dificuldade de resolução do problema proposto perante as RNAs?"
   ]
  },
  {
   "cell_type": "code",
   "execution_count": null,
   "metadata": {},
   "outputs": [],
   "source": []
  }
 ],
 "metadata": {
  "kernelspec": {
   "display_name": "Python 3",
   "language": "python",
   "name": "python3"
  },
  "language_info": {
   "codemirror_mode": {
    "name": "ipython",
    "version": 3
   },
   "file_extension": ".py",
   "mimetype": "text/x-python",
   "name": "python",
   "nbconvert_exporter": "python",
   "pygments_lexer": "ipython3",
   "version": "3.8.5"
  }
 },
 "nbformat": 4,
 "nbformat_minor": 4
}
